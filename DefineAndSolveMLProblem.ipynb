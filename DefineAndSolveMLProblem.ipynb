{
 "cells": [
  {
   "cell_type": "markdown",
   "metadata": {},
   "source": [
    "\\Lab 8: Define and Solve an ML Problem of Your Choosing"
   ]
  },
  {
   "cell_type": "code",
   "execution_count": 49,
   "metadata": {},
   "outputs": [],
   "source": [
    "import pandas as pd\n",
    "import numpy as np\n",
    "import os \n",
    "import matplotlib.pyplot as plt\n",
    "import seaborn as sns"
   ]
  },
  {
   "cell_type": "markdown",
   "metadata": {},
   "source": [
    "In this lab assignment, you will follow the machine learning life cycle and implement a model to solve a machine learning problem of your choosing. You will select a data set and choose a predictive problem that the data set supports.  You will then inspect the data with your problem in mind and begin to formulate a  project plan. You will then implement the machine learning project plan. \n",
    "\n",
    "You will complete the following tasks:\n",
    "\n",
    "1. Build Your DataFrame\n",
    "2. Define Your ML Problem\n",
    "3. Perform exploratory data analysis to understand your data.\n",
    "4. Define Your Project Plan\n",
    "5. Implement Your Project Plan:\n",
    "    * Prepare your data for your model.\n",
    "    * Fit your model to the training data and evaluate your model.\n",
    "    * Improve your model's performance."
   ]
  },
  {
   "cell_type": "markdown",
   "metadata": {},
   "source": [
    "## Part 1: Build Your DataFrame\n",
    "\n",
    "You will have the option to choose one of four data sets that you have worked with in this program:\n",
    "\n",
    "* The \"census\" data set that contains Census information from 1994: `censusData.csv`\n",
    "* Airbnb NYC \"listings\" data set: `airbnbListingsData.csv`\n",
    "* World Happiness Report (WHR) data set: `WHR2018Chapter2OnlineData.csv`\n",
    "* Book Review data set: `bookReviewsData.csv`\n",
    "\n",
    "Note that these are variations of the data sets that you have worked with in this program. For example, some do not include some of the preprocessing necessary for specific models. \n",
    "\n",
    "#### Load a Data Set and Save it as a Pandas DataFrame\n",
    "\n",
    "The code cell below contains filenames (path + filename) for each of the four data sets available to you.\n",
    "\n",
    "<b>Task:</b> In the code cell below, use the same method you have been using to load the data using `pd.read_csv()` and save it to DataFrame `df`. \n",
    "\n",
    "You can load each file as a new DataFrame to inspect the data before choosing your data set."
   ]
  },
  {
   "cell_type": "code",
   "execution_count": 50,
   "metadata": {},
   "outputs": [],
   "source": [
    "# File names of the four data sets\n",
    "adultDataSet_filename = os.path.join(os.getcwd(), \"data\", \"censusData.csv\")\n",
    "airbnbDataSet_filename = os.path.join(os.getcwd(), \"data\", \"airbnbListingsData.csv\")\n",
    "WHRDataSet_filename = os.path.join(os.getcwd(), \"data\", \"WHR2018Chapter2OnlineData.csv\")\n",
    "bookReviewDataSet_filename = os.path.join(os.getcwd(), \"data\", \"bookReviewsData.csv\")\n",
    "\n",
    "\n",
    "df = pd.read_csv(airbnbDataSet_filename, header=0)\n"
   ]
  },
  {
   "cell_type": "markdown",
   "metadata": {},
   "source": [
    "## Part 2: Define Your ML Problem\n",
    "\n",
    "Next you will formulate your ML Problem. In the markdown cell below, answer the following questions:\n",
    "\n",
    "1. List the data set you have chosen.\n",
    "2. What will you be predicting? What is the label?\n",
    "3. Is this a supervised or unsupervised learning problem? Is this a clustering, classification or regression problem? Is it a binary classificaiton or multi-class classifiction problem?\n",
    "4. What are your features? (note: this list may change after your explore your data)\n",
    "5. Explain why this is an important problem. In other words, how would a company create value with a model that predicts this label?"
   ]
  },
  {
   "cell_type": "markdown",
   "metadata": {},
   "source": [
    "I've chosen the airbnb data set. I will be predicting whether a listing will have a high rating or not (4.5 stars and above). This is an example of supervised learning and is a binary classification problem. In the dataset, the label is high_rating  and it will contain the value True or False. My features are:'host_response_rate',\n",
    "       'host_is_superhost', \n",
    "       , 'bathrooms', 'bedrooms', 'beds', 'price’,\n",
    "       'number_of_reviews', 'number_of_reviews_l30d',\n",
    "       'review_scores_rating', 'review_scores_cleanliness',\n",
    "       'review_scores_checkin', 'review_scores_communication',\n",
    "       'review_scores_location', 'review_scores_value', \n",
    "      'reviews_per_month'. And I created a new column, ‘high_rating’, which will be our label.\n",
    "\n",
    "It's an important problem because it helps hosts know whether their airbnb is successful or not, whether they're acting as a good host and can figure what factors make their listing successful and have a good rating. It will also be helpful for Airbnb, since the more satisfied their customers are, the more revenue they make. They can use this model to have tips and tricks for their host users. "
   ]
  },
  {
   "cell_type": "markdown",
   "metadata": {},
   "source": [
    "## Part 3: Understand Your Data\n",
    "\n",
    "The next step is to perform exploratory data analysis. Inspect and analyze your data set with your machine learning problem in mind. Consider the following as you inspect your data:\n",
    "\n",
    "1. What data preparation techniques would you like to use? These data preparation techniques may include:\n",
    "\n",
    "    * addressing missingness, such as replacing missing values with means\n",
    "    * finding and replacing outliers\n",
    "    * renaming features and labels\n",
    "    * finding and replacing outliers\n",
    "    * performing feature engineering techniques such as one-hot encoding on categorical features\n",
    "    * selecting appropriate features and removing irrelevant features\n",
    "    * performing specific data cleaning and preprocessing techniques for an NLP problem\n",
    "    * addressing class imbalance in your data sample to promote fair AI\n",
    "    \n",
    "\n",
    "2. What machine learning model (or models) you would like to use that is suitable for your predictive problem and data?\n",
    "    * Are there other data preparation techniques that you will need to apply to build a balanced modeling data set for your problem and model? For example, will you need to scale your data?\n",
    " \n",
    " \n",
    "3. How will you evaluate and improve the model's performance?\n",
    "    * Are there specific evaluation metrics and methods that are appropriate for your model?\n",
    "    \n",
    "\n",
    "Think of the different techniques you have used to inspect and analyze your data in this course. These include using Pandas to apply data filters, using the Pandas `describe()` method to get insight into key statistics for each column, using the Pandas `dtypes` property to inspect the data type of each column, and using Matplotlib and Seaborn to detect outliers and visualize relationships between features and labels. If you are working on a classification problem, use techniques you have learned to determine if there is class imbalance.\n",
    "\n",
    "<b>Task</b>: Use the techniques you have learned in this course to inspect and analyze your data. You can import additional packages that you have used in this course that you will need to perform this task.\n",
    "\n",
    "<b>Note</b>: You can add code cells if needed by going to the <b>Insert</b> menu and clicking on <b>Insert Cell Below</b> in the drop-drown menu."
   ]
  },
  {
   "cell_type": "markdown",
   "metadata": {},
   "source": [
    "First, we must further inspect the data."
   ]
  },
  {
   "cell_type": "code",
   "execution_count": 51,
   "metadata": {},
   "outputs": [
    {
     "name": "stdout",
     "output_type": "stream",
     "text": [
      "                                                 name  \\\n",
      "0                               Skylit Midtown Castle   \n",
      "1   Whole flr w/private bdrm, bath & kitchen(pls r...   \n",
      "2            Spacious Brooklyn Duplex, Patio + Garden   \n",
      "3                    Large Furnished Room Near B'way　   \n",
      "4                  Cozy Clean Guest Room - Family Apt   \n",
      "5      Lovely Room 1, Garden, Best Area, Legal rental   \n",
      "6                    Only 2 stops to Manhattan studio   \n",
      "7                             UES Beautiful Blue Room   \n",
      "8   Amazing location! Wburg. Large, bright & tranquil   \n",
      "9         Perfect for Your Parents:  Privacy + Garden   \n",
      "10                   Sweet and Spacious Brooklyn Loft   \n",
      "11   Maison des Sirenes1,bohemian, luminous apartment   \n",
      "12                               Midtown Pied-a-terre   \n",
      "13                   Modern 1 BR / NYC / East Village   \n",
      "14                Spacious 1 bedroom in luxe building   \n",
      "15                              Large B&B Style rooms   \n",
      "16            Lovely Room 2; Garden; Best area, Legal   \n",
      "17                                ENJOY Downtown NYC!   \n",
      "18                                 BEST BET IN HARLEM   \n",
      "19  1 Stop fr. Manhattan! Private Suite,Landmark B...   \n",
      "\n",
      "                                          description  \\\n",
      "0   Beautiful, spacious skylit studio in the heart...   \n",
      "1   Enjoy 500 s.f. top floor in 1899 brownstone, w...   \n",
      "2   We welcome you to stay in our lovely 2 br dupl...   \n",
      "3   Please don’t expect the luxury here just a bas...   \n",
      "4   Our best guests are seeking a safe, clean, spa...   \n",
      "5   Beautiful house, gorgeous garden, patio, cozy ...   \n",
      "6   Comfortable studio apartment with super comfor...   \n",
      "7   Beautiful peaceful healthy home<br /><br /><b>...   \n",
      "8   Large, private loft-like room in a spacious 2-...   \n",
      "9   Parents/grandparents coming to town, or are yo...   \n",
      "10  A true open-plan loft in a repurposed factory ...   \n",
      "11  <b>The space</b><br />I am the lucky owner of ...   \n",
      "12  HELLO.  PLEASE DO NOT HIT \"REQUEST TO BOOK\". H...   \n",
      "13  Awesome, spacious & clean 1 bedroom with a coz...   \n",
      "14  The room is spacious, the neighborhood is safe...   \n",
      "15  Great location.<br /><br /><b>The space</b><br...   \n",
      "16  Lovely room,  gorgeous garden, helpful host in...   \n",
      "17  Please be vaccinated and responsible if you ar...   \n",
      "18  <b>The space</b><br />Centrally located in the...   \n",
      "19  Private room, dedicated bath and a separate en...   \n",
      "\n",
      "                                neighborhood_overview      host_name  \\\n",
      "0   Centrally located in the heart of Manhattan ju...       Jennifer   \n",
      "1   Just the right mix of urban center and local n...    LisaRoxanne   \n",
      "2                                                 NaN        Rebecca   \n",
      "3     Theater district, many restaurants around here.       Shunichi   \n",
      "4   Our neighborhood is full of restaurants and ca...      MaryEllen   \n",
      "5   Neighborhood is amazing!<br />Best subways to ...         Laurie   \n",
      "6                                                 NaN  Allen & Irina   \n",
      "7   Location: Five minutes to Central Park, Museum...            Cyn   \n",
      "8   - One stop from the East Village, Lower East S...         Joelle   \n",
      "9   Residential, village-like atmosphere. Lots of ...           Jane   \n",
      "10  We've lived here for over 10 years and watched...          Chaya   \n",
      "11                                                NaN       Nathalie   \n",
      "12  Quiet residential block near many restaurants ...          Tommi   \n",
      "13  The east village offers a mixture of old schoo...           Dana   \n",
      "14                                                NaN           Teri   \n",
      "15                                                NaN         Angela   \n",
      "16  Neighborhood is wonderful, a great walking nei...         Laurie   \n",
      "17  Enjoy great food, music, unique shops, night-l...         Edward   \n",
      "18                                                NaN           Earl   \n",
      "19  Long Island City is the hottest neighborhood i...        Orestes   \n",
      "\n",
      "                        host_location  \\\n",
      "0   New York, New York, United States   \n",
      "1   New York, New York, United States   \n",
      "2   Brooklyn, New York, United States   \n",
      "3   New York, New York, United States   \n",
      "4   New York, New York, United States   \n",
      "5   New York, New York, United States   \n",
      "6   New York, New York, United States   \n",
      "7   New York, New York, United States   \n",
      "8   New York, New York, United States   \n",
      "9   New York, New York, United States   \n",
      "10  New York, New York, United States   \n",
      "11  New York, New York, United States   \n",
      "12  New York, New York, United States   \n",
      "13  New York, New York, United States   \n",
      "14  New York, New York, United States   \n",
      "15  New York, New York, United States   \n",
      "16  New York, New York, United States   \n",
      "17  New York, New York, United States   \n",
      "18  New York, New York, United States   \n",
      "19  New York, New York, United States   \n",
      "\n",
      "                                           host_about  host_response_rate  \\\n",
      "0   A New Yorker since 2000! My passion is creatin...                0.80   \n",
      "1   Laid-back Native New Yorker (formerly bi-coast...                0.09   \n",
      "2   Rebecca is an artist/designer, and Henoch is i...                1.00   \n",
      "3   I used to work for a financial industry but no...                1.00   \n",
      "4   Welcome to family life with my oldest two away...                 NaN   \n",
      "5   Hello, \\r\\nI will be welcoming and helpful,  w...                1.00   \n",
      "6   We love to travel. When we travel we like to s...                1.00   \n",
      "7   Capturing the Steinbeck side of life in its Fi...                1.00   \n",
      "8   I have lived in the same apartment in Brooklyn...                1.00   \n",
      "9   I have been an Airbnb host since 2009 -- just ...                1.00   \n",
      "10  We're a couple in our thirties who love to tra...                1.00   \n",
      "11   I am French and have been living in Ny for 10...                1.00   \n",
      "12  I am a spirit-minded shoe model and alternativ...                0.00   \n",
      "13  I am an industrial designer and native new yor...                0.80   \n",
      "14  I'm a citizen of the world.  I love to travel ...                0.00   \n",
      "15                          Loves to travel and host.                1.00   \n",
      "16  Hello, \\r\\nI will be welcoming and helpful,  w...                1.00   \n",
      "17  I am an actor & adventurer originally from Tor...                1.00   \n",
      "18  My reviews are a more accurate description of ...                 NaN   \n",
      "19  Photographer/Real Estate Developer. \\r\\nI enjo...                1.00   \n",
      "\n",
      "    host_acceptance_rate  host_is_superhost  host_listings_count  ...  \\\n",
      "0                   0.17               True                  8.0  ...   \n",
      "1                   0.69               True                  1.0  ...   \n",
      "2                   0.25               True                  1.0  ...   \n",
      "3                   1.00               True                  1.0  ...   \n",
      "4                    NaN               True                  1.0  ...   \n",
      "5                   1.00               True                  3.0  ...   \n",
      "6                   1.00               True                  1.0  ...   \n",
      "7                   1.00               True                  3.0  ...   \n",
      "8                   0.00               True                  2.0  ...   \n",
      "9                   0.99               True                  1.0  ...   \n",
      "10                  0.61               True                  4.0  ...   \n",
      "11                  0.98               True                  2.0  ...   \n",
      "12                   NaN               True                  1.0  ...   \n",
      "13                  0.54               True                  1.0  ...   \n",
      "14                  0.00               True                  1.0  ...   \n",
      "15                  0.84               True                  0.0  ...   \n",
      "16                  1.00               True                  3.0  ...   \n",
      "17                  0.75               True                  2.0  ...   \n",
      "18                   NaN               True                  1.0  ...   \n",
      "19                  0.94               True                  1.0  ...   \n",
      "\n",
      "    review_scores_communication  review_scores_location  review_scores_value  \\\n",
      "0                          4.79                    4.86                 4.41   \n",
      "1                          4.80                    4.71                 4.64   \n",
      "2                          5.00                    4.50                 5.00   \n",
      "3                          4.42                    4.87                 4.36   \n",
      "4                          4.95                    4.94                 4.92   \n",
      "5                          4.82                    4.87                 4.73   \n",
      "6                          4.80                    4.67                 4.57   \n",
      "7                          4.95                    4.84                 4.84   \n",
      "8                          5.00                    5.00                 5.00   \n",
      "9                          4.91                    4.93                 4.78   \n",
      "10                         4.60                    5.00                 4.80   \n",
      "11                         4.87                    4.61                 4.75   \n",
      "12                         5.00                    4.95                 4.58   \n",
      "13                         4.84                    4.87                 4.34   \n",
      "14                         4.84                    4.84                 4.90   \n",
      "15                         4.85                    4.34                 4.63   \n",
      "16                         4.77                    4.88                 4.75   \n",
      "17                         4.85                    4.70                 4.55   \n",
      "18                         4.90                    4.51                 4.70   \n",
      "19                         4.90                    4.88                 4.84   \n",
      "\n",
      "   instant_bookable calculated_host_listings_count  \\\n",
      "0             False                              3   \n",
      "1             False                              1   \n",
      "2             False                              1   \n",
      "3             False                              1   \n",
      "4             False                              1   \n",
      "5             False                              3   \n",
      "6              True                              1   \n",
      "7              True                              1   \n",
      "8             False                              2   \n",
      "9              True                              2   \n",
      "10            False                              1   \n",
      "11            False                              2   \n",
      "12            False                              1   \n",
      "13            False                              1   \n",
      "14            False                              1   \n",
      "15            False                              4   \n",
      "16            False                              3   \n",
      "17            False                              2   \n",
      "18             True                              1   \n",
      "19            False                              1   \n",
      "\n",
      "    calculated_host_listings_count_entire_homes  \\\n",
      "0                                             3   \n",
      "1                                             1   \n",
      "2                                             1   \n",
      "3                                             0   \n",
      "4                                             0   \n",
      "5                                             1   \n",
      "6                                             1   \n",
      "7                                             0   \n",
      "8                                             0   \n",
      "9                                             1   \n",
      "10                                            1   \n",
      "11                                            2   \n",
      "12                                            1   \n",
      "13                                            1   \n",
      "14                                            0   \n",
      "15                                            0   \n",
      "16                                            1   \n",
      "17                                            0   \n",
      "18                                            1   \n",
      "19                                            0   \n",
      "\n",
      "    calculated_host_listings_count_private_rooms  \\\n",
      "0                                              0   \n",
      "1                                              0   \n",
      "2                                              0   \n",
      "3                                              1   \n",
      "4                                              1   \n",
      "5                                              2   \n",
      "6                                              0   \n",
      "7                                              1   \n",
      "8                                              2   \n",
      "9                                              1   \n",
      "10                                             0   \n",
      "11                                             0   \n",
      "12                                             0   \n",
      "13                                             0   \n",
      "14                                             1   \n",
      "15                                             4   \n",
      "16                                             2   \n",
      "17                                             2   \n",
      "18                                             0   \n",
      "19                                             1   \n",
      "\n",
      "    calculated_host_listings_count_shared_rooms  reviews_per_month  \\\n",
      "0                                             0               0.33   \n",
      "1                                             0               4.86   \n",
      "2                                             0               0.02   \n",
      "3                                             0               3.68   \n",
      "4                                             0               0.87   \n",
      "5                                             0               1.48   \n",
      "6                                             0               1.24   \n",
      "7                                             0               1.82   \n",
      "8                                             0               0.07   \n",
      "9                                             0               3.05   \n",
      "10                                            0               0.06   \n",
      "11                                            0               1.17   \n",
      "12                                            0               0.55   \n",
      "13                                            0               0.75   \n",
      "14                                            0               1.36   \n",
      "15                                            0               0.66   \n",
      "16                                            0               2.12   \n",
      "17                                            0               1.99   \n",
      "18                                            0               0.79   \n",
      "19                                            0               3.15   \n",
      "\n",
      "   n_host_verifications  \n",
      "0                     9  \n",
      "1                     6  \n",
      "2                     3  \n",
      "3                     4  \n",
      "4                     7  \n",
      "5                     7  \n",
      "6                     7  \n",
      "7                     5  \n",
      "8                     5  \n",
      "9                     8  \n",
      "10                    4  \n",
      "11                    5  \n",
      "12                    4  \n",
      "13                    4  \n",
      "14                    8  \n",
      "15                    6  \n",
      "16                    7  \n",
      "17                    4  \n",
      "18                    5  \n",
      "19                    4  \n",
      "\n",
      "[20 rows x 50 columns]\n",
      "0        4.70\n",
      "1        4.45\n",
      "2        5.00\n",
      "3        4.21\n",
      "4        4.91\n",
      "         ... \n",
      "28017    5.00\n",
      "28018    5.00\n",
      "28019    1.00\n",
      "28020    5.00\n",
      "28021    5.00\n",
      "Name: review_scores_rating, Length: 28022, dtype: float64\n",
      "Index(['name', 'description', 'neighborhood_overview', 'host_name',\n",
      "       'host_location', 'host_about', 'host_response_rate',\n",
      "       'host_acceptance_rate', 'host_is_superhost', 'host_listings_count',\n",
      "       'host_total_listings_count', 'host_has_profile_pic',\n",
      "       'host_identity_verified', 'neighbourhood_group_cleansed', 'room_type',\n",
      "       'accommodates', 'bathrooms', 'bedrooms', 'beds', 'amenities', 'price',\n",
      "       'minimum_nights', 'maximum_nights', 'minimum_minimum_nights',\n",
      "       'maximum_minimum_nights', 'minimum_maximum_nights',\n",
      "       'maximum_maximum_nights', 'minimum_nights_avg_ntm',\n",
      "       'maximum_nights_avg_ntm', 'has_availability', 'availability_30',\n",
      "       'availability_60', 'availability_90', 'availability_365',\n",
      "       'number_of_reviews', 'number_of_reviews_ltm', 'number_of_reviews_l30d',\n",
      "       'review_scores_rating', 'review_scores_cleanliness',\n",
      "       'review_scores_checkin', 'review_scores_communication',\n",
      "       'review_scores_location', 'review_scores_value', 'instant_bookable',\n",
      "       'calculated_host_listings_count',\n",
      "       'calculated_host_listings_count_entire_homes',\n",
      "       'calculated_host_listings_count_private_rooms',\n",
      "       'calculated_host_listings_count_shared_rooms', 'reviews_per_month',\n",
      "       'n_host_verifications'],\n",
      "      dtype='object')\n",
      "(28022, 50)\n"
     ]
    }
   ],
   "source": [
    "print(df.head(20))\n",
    "print(df['review_scores_rating'])\n",
    "print(df.columns)\n",
    "print(df.shape)"
   ]
  },
  {
   "cell_type": "markdown",
   "metadata": {},
   "source": [
    "Then, we must create and define the label from the Data Set."
   ]
  },
  {
   "cell_type": "code",
   "execution_count": 28,
   "metadata": {},
   "outputs": [
    {
     "data": {
      "text/plain": [
       "0         True\n",
       "1         True\n",
       "2         True\n",
       "3         True\n",
       "4         True\n",
       "         ...  \n",
       "28017     True\n",
       "28018     True\n",
       "28019    False\n",
       "28020     True\n",
       "28021     True\n",
       "Name: high_rating, Length: 28022, dtype: bool"
      ]
     },
     "execution_count": 28,
     "metadata": {},
     "output_type": "execute_result"
    }
   ],
   "source": [
    "df['high_rating'] = np.where(df['review_scores_rating'] >= 4.00, True, False)\n",
    "df['high_rating']"
   ]
  },
  {
   "cell_type": "markdown",
   "metadata": {},
   "source": [
    "Identify features."
   ]
  },
  {
   "cell_type": "code",
   "execution_count": 29,
   "metadata": {},
   "outputs": [],
   "source": [
    "df.drop(columns = {'name', 'description', 'neighborhood_overview', 'host_name',\n",
    "       'host_location', 'host_about','host_listings_count','neighbourhood_group_cleansed', 'room_type',\n",
    "       'host_total_listings_count', 'host_has_profile_pic','review_scores_rating',\n",
    "       'calculated_host_listings_count','amenities','minimum_minimum_nights', 'maximum_minimum_nights',\n",
    "       'minimum_maximum_nights', 'maximum_maximum_nights',\n",
    "       'calculated_host_listings_count_entire_homes','minimum_nights_avg_ntm', 'maximum_nights_avg_ntm',\n",
    "       'calculated_host_listings_count_private_rooms','review_scores_value',\n",
    "       'calculated_host_listings_count_shared_rooms', \n",
    "       'n_host_verifications'}, axis=1, inplace=True)"
   ]
  },
  {
   "cell_type": "code",
   "execution_count": 30,
   "metadata": {},
   "outputs": [
    {
     "name": "stdout",
     "output_type": "stream",
     "text": [
      "Index(['host_response_rate', 'host_acceptance_rate', 'host_is_superhost',\n",
      "       'host_identity_verified', 'accommodates', 'bathrooms', 'bedrooms',\n",
      "       'beds', 'price', 'minimum_nights', 'maximum_nights', 'has_availability',\n",
      "       'availability_30', 'availability_60', 'availability_90',\n",
      "       'availability_365', 'number_of_reviews', 'number_of_reviews_ltm',\n",
      "       'number_of_reviews_l30d', 'review_scores_cleanliness',\n",
      "       'review_scores_checkin', 'review_scores_communication',\n",
      "       'review_scores_location', 'instant_bookable', 'reviews_per_month'],\n",
      "      dtype='object')\n"
     ]
    }
   ],
   "source": [
    "#verify it was done correctly\n",
    "X = df.drop(columns = 'high_rating', axis=1)\n",
    "df.shape\n",
    "#df.head()\n",
    "print(X.columns)\n"
   ]
  },
  {
   "cell_type": "code",
   "execution_count": 31,
   "metadata": {},
   "outputs": [
    {
     "data": {
      "text/plain": [
       "Index(['host_response_rate', 'host_acceptance_rate', 'bedrooms', 'beds'], dtype='object')"
      ]
     },
     "execution_count": 31,
     "metadata": {},
     "output_type": "execute_result"
    }
   ],
   "source": [
    "#clean the data by handling missing data.\n",
    "nan_count = np.sum(df.isnull(), axis = 0)\n",
    "nan_detected = nan_count!=0\n",
    "nan_detected\n",
    "is_int_or_float = (df.dtypes == 'int64') | (df.dtypes == 'float64')\n",
    "is_int_or_float #True if int or float\n",
    "to_impute = nan_detected & is_int_or_float\n",
    "to_impute\n",
    "df.columns[to_impute]"
   ]
  },
  {
   "cell_type": "code",
   "execution_count": 32,
   "metadata": {},
   "outputs": [
    {
     "name": "stdout",
     "output_type": "stream",
     "text": [
      "host_acceptance_rate_na missing values count :0\n",
      "host_response_rate_na missing values count :0\n",
      "bedrooms_na missing values count :0\n",
      "beds_na missing values count :0\n"
     ]
    }
   ],
   "source": [
    "#clean the data by handling missing data, continued.\n",
    "df['host_acceptance_rate_na'] = df['host_acceptance_rate'].isnull()\n",
    "df['host_response_rate_na'] = df['host_response_rate'].isnull()\n",
    "df['bedrooms_na'] = df['bedrooms'].isnull()\n",
    "df['beds_na'] = df['beds'].isnull()\n",
    "df.head()\n",
    "\n",
    "df['host_acceptance_rate'].fillna(np.mean(df['host_acceptance_rate_na']), inplace=True)\n",
    "df['host_response_rate'].fillna(np.mean(df['host_response_rate_na']), inplace=True)\n",
    "df['bedrooms'].fillna(np.mean(df['bedrooms_na']), inplace=True)\n",
    "df['beds'].fillna(np.mean(df['beds_na']), inplace=True)\n",
    "\n",
    "#make sure it worked:\n",
    "print(\"{} missing values count :{}\".format('host_acceptance_rate_na', np.sum(df['host_acceptance_rate_na'].isnull(), axis = 0)))\n",
    "print(\"{} missing values count :{}\".format('host_response_rate_na', np.sum(df['host_response_rate_na'].isnull(), axis = 0)))\n",
    "print(\"{} missing values count :{}\".format('bedrooms_na', np.sum(df['bedrooms_na'].isnull(), axis = 0)))\n",
    "print(\"{} missing values count :{}\".format('beds_na', np.sum(df['beds_na'].isnull(), axis = 0)))\n",
    "\n",
    "df['bedrooms']\n",
    "df.drop(columns = {'host_response_rate_na','host_acceptance_rate_na','bedrooms_na','beds_na'}, axis=1, inplace=True)\n",
    "\n",
    "\n"
   ]
  },
  {
   "cell_type": "code",
   "execution_count": 33,
   "metadata": {},
   "outputs": [
    {
     "name": "stdout",
     "output_type": "stream",
     "text": [
      "Index(['host_response_rate', 'host_acceptance_rate', 'bathrooms', 'bedrooms',\n",
      "       'beds', 'price', 'review_scores_cleanliness', 'review_scores_checkin',\n",
      "       'review_scores_communication', 'review_scores_location',\n",
      "       'reviews_per_month'],\n",
      "      dtype='object')\n"
     ]
    }
   ],
   "source": [
    "#Scale the data\n",
    "from sklearn.preprocessing import StandardScaler\n",
    "\n",
    "#Create a scaler object.\n",
    "scaler = StandardScaler()\n",
    "df_to_scale = df.select_dtypes(float)\n",
    "\n",
    "#Scale the data and transform it.\n",
    "transformed_data = scaler.fit_transform(df_to_scale)\n",
    "\n",
    "#create a new df. \n",
    "df_scaled = pd.DataFrame(transformed_data, columns = df_to_scale.columns, index= df_to_scale.index)\n",
    "#make sure it worked.\n",
    "print(df_to_scale.columns)\n",
    "#Combine the dataframes\n",
    "df.update(df_scaled)\n"
   ]
  },
  {
   "cell_type": "code",
   "execution_count": 34,
   "metadata": {},
   "outputs": [
    {
     "data": {
      "text/plain": [
       "Index([], dtype='object')"
      ]
     },
     "execution_count": 34,
     "metadata": {},
     "output_type": "execute_result"
    }
   ],
   "source": [
    "\n",
    "\n",
    "#Perform one-hot encoding to switch categorical values to numerical\n",
    "\n",
    "to_encode = df.select_dtypes(include=['object']).columns\n",
    "to_encode\n",
    "\n",
    "\n",
    "#There are no features needed to be one-hot encoded. Therefore the data is now prepared."
   ]
  },
  {
   "cell_type": "markdown",
   "metadata": {},
   "source": [
    "\n",
    "\n",
    "I would like to use logistic regression, I feel like its a good model for binary classification, and namely my ML problem.\n",
    "I cleaned and prepared my data by removing features I did not deem necessary, and I filled in any missing values to the features that did stay. I didn't have to hot-one encode any of my features, and I did scale the data.\n",
    "I will evaluate my model by testing it's accuracy, precision, and recall. I will use grid search to fine-tune my model.\n"
   ]
  },
  {
   "cell_type": "markdown",
   "metadata": {},
   "source": [
    "## Part 4: Define Your Project Plan\n",
    "\n",
    "Now that you understand your data, in the markdown cell below, define your plan to implement the remaining phases of the machine learning life cycle (data preparation, modeling, evaluation) to solve your ML problem. Answer the following questions:\n",
    "\n",
    "* Do you have a new feature list? If so, what are the features that you chose to keep and remove after inspecting the data? \n",
    "* Explain different data preparation techniques that you will use to prepare your data for modeling.\n",
    "* What is your model (or models)?\n",
    "* Describe your plan to train your model, analyze its performance and then improve the model. That is, describe your model building, validation and selection plan to produce a model that generalizes well to new data. "
   ]
  },
  {
   "cell_type": "markdown",
   "metadata": {},
   "source": [
    "I do have a new feature list, I chose to keep 'host_response_rate', 'host_acceptance_rate', 'host_is_superhost',\n",
    "       'host_identity_verified', 'accommodates', 'bathrooms', 'bedrooms',\n",
    "       'beds', 'price', 'minimum_nights', 'maximum_nights',\n",
    "       'minimum_nights_avg_ntm', 'maximum_nights_avg_ntm', 'has_availability',\n",
    "       'availability_30', 'availability_60', 'availability_90',\n",
    "       'availability_365', 'number_of_reviews', 'number_of_reviews_ltm',\n",
    "       'number_of_reviews_l30d', 'review_scores_cleanliness',\n",
    "       'review_scores_checkin', 'review_scores_communication',\n",
    "       'review_scores_location', 'instant_bookable', 'reviews_per_month'. And I'm doing label creation by creating a new label, ‘high_rating’, which will be the label. I also am doing feature engineering by removing non-pertinent  features. I cleaned up the data by figuring which ones had missing data and filling it in. And I scaled the data. I built the model, spliting the data with 66% training and 33% testing. Trained the logistic regression model and used cross validation. I plan to implement a logistic regression using the scikit-learn implementation. I'll also do a grid search to figure the best hyperparameter C, and fine tune the model. Then I'll plot a precision-recall curve and plot the ROC and figure the AUC. I'm doing a decision tree for good measure as well, to make sure everything is working correctly. \n",
    "Then I'll play with the hyperparameters until I can figure the optimal parameters for my model.\n"
   ]
  },
  {
   "cell_type": "markdown",
   "metadata": {},
   "source": [
    "## Part 5: Implement Your Project Plan\n",
    "\n",
    "<b>Task:</b> In the code cell below, import additional packages that you have used in this course that you will need to implement your project plan."
   ]
  },
  {
   "cell_type": "code",
   "execution_count": 35,
   "metadata": {},
   "outputs": [],
   "source": [
    "from sklearn.model_selection import train_test_split, GridSearchCV \n",
    "from sklearn.linear_model import LogisticRegression\n",
    "from sklearn.metrics import accuracy_score, confusion_matrix,precision_recall_curve"
   ]
  },
  {
   "cell_type": "markdown",
   "metadata": {},
   "source": [
    "<b>Task:</b> Use the rest of this notebook to carry out your project plan. \n",
    "\n",
    "You will:\n",
    "\n",
    "1. Prepare your data for your model.\n",
    "2. Fit your model to the training data and evaluate your model.\n",
    "3. Improve your model's performance by performing model selection and/or feature selection techniques to find best model for your problem.\n",
    "\n",
    "Add code cells below and populate the notebook with commentary, code, analyses, results, and figures as you see fit. "
   ]
  },
  {
   "cell_type": "code",
   "execution_count": 36,
   "metadata": {},
   "outputs": [],
   "source": [
    "#I already prepared the data, so we will create and fit the model to the\n",
    "#training data.\n",
    "y = df['high_rating']\n",
    "\n",
    "X = df.drop(columns = 'high_rating', axis=1)\n",
    "\n",
    "X_train, X_test, y_train, y_test = train_test_split(X, y, test_size=0.33,random_state=123)\n"
   ]
  },
  {
   "cell_type": "code",
   "execution_count": 37,
   "metadata": {},
   "outputs": [
    {
     "name": "stdout",
     "output_type": "stream",
     "text": [
      "(18774, 25)\n",
      "(9248, 25)\n",
      "(18774,)\n",
      "(9248,)\n"
     ]
    }
   ],
   "source": [
    "\n",
    "\n",
    "model_default = LogisticRegression(max_iter=10000)\n",
    "model_default.fit(X_train, y_train)\n",
    "\n",
    "print(X_train.shape)\n",
    "print(X_test.shape)\n",
    "print(y_train.shape)\n",
    "print(y_test.shape)"
   ]
  },
  {
   "cell_type": "code",
   "execution_count": 38,
   "metadata": {},
   "outputs": [
    {
     "data": {
      "text/html": [
       "<div>\n",
       "<style scoped>\n",
       "    .dataframe tbody tr th:only-of-type {\n",
       "        vertical-align: middle;\n",
       "    }\n",
       "\n",
       "    .dataframe tbody tr th {\n",
       "        vertical-align: top;\n",
       "    }\n",
       "\n",
       "    .dataframe thead th {\n",
       "        text-align: right;\n",
       "    }\n",
       "</style>\n",
       "<table border=\"1\" class=\"dataframe\">\n",
       "  <thead>\n",
       "    <tr style=\"text-align: right;\">\n",
       "      <th></th>\n",
       "      <th>Predicted: Bad review</th>\n",
       "      <th>Predicted: Good review</th>\n",
       "    </tr>\n",
       "  </thead>\n",
       "  <tbody>\n",
       "    <tr>\n",
       "      <th>Actual: Bad review</th>\n",
       "      <td>8813</td>\n",
       "      <td>44</td>\n",
       "    </tr>\n",
       "    <tr>\n",
       "      <th>Actual: Good review</th>\n",
       "      <td>179</td>\n",
       "      <td>212</td>\n",
       "    </tr>\n",
       "  </tbody>\n",
       "</table>\n",
       "</div>"
      ],
      "text/plain": [
       "                     Predicted: Bad review  Predicted: Good review\n",
       "Actual: Bad review                    8813                      44\n",
       "Actual: Good review                    179                     212"
      ]
     },
     "execution_count": 38,
     "metadata": {},
     "output_type": "execute_result"
    }
   ],
   "source": [
    "# Make predictions using predict_proba\n",
    "proba_predictions = model_default.predict_proba(X_test)\n",
    "proba_predictions_default = []\n",
    "for i in proba_predictions:\n",
    "    proba_predictions_default.append(i[1])\n",
    "\n",
    "class_label_predictions_default = model_default.predict(X_test)\n",
    "\n",
    "#Using a confusion matrix, we will figure how accurate the model is.\n",
    "c_m = confusion_matrix(y_test, class_label_predictions_default, labels=[True,False])\n",
    "pd.DataFrame(c_m, columns=['Predicted: Bad review', 'Predicted: Good review'],\n",
    "index=['Actual: Bad review', 'Actual: Good review'])"
   ]
  },
  {
   "cell_type": "code",
   "execution_count": 39,
   "metadata": {},
   "outputs": [
    {
     "name": "stdout",
     "output_type": "stream",
     "text": [
      "Running Grid Search...\n"
     ]
    },
    {
     "name": "stderr",
     "output_type": "stream",
     "text": [
      "/home/ubuntu/.pyenv/versions/3.9.19/lib/python3.9/site-packages/sklearn/linear_model/_logistic.py:469: ConvergenceWarning: lbfgs failed to converge (status=1):\n",
      "STOP: TOTAL NO. of ITERATIONS REACHED LIMIT.\n",
      "\n",
      "Increase the number of iterations (max_iter) or scale the data as shown in:\n",
      "    https://scikit-learn.org/stable/modules/preprocessing.html\n",
      "Please also refer to the documentation for alternative solver options:\n",
      "    https://scikit-learn.org/stable/modules/linear_model.html#logistic-regression\n",
      "  n_iter_i = _check_optimize_result(\n"
     ]
    },
    {
     "name": "stdout",
     "output_type": "stream",
     "text": [
      "Done\n"
     ]
    }
   ],
   "source": [
    "#Another logistic regression model using GridSearchSV\n",
    "\n",
    "cs=[10**i for i in range(-7,7)]\n",
    "param_grid = dict(C = list(cs))\n",
    "param_grid\n",
    "\n",
    "print('Running Grid Search...')\n",
    "\n",
    "#Creating a model\n",
    "model = LogisticRegression(max_iter=10000)\n",
    "\n",
    "#Then will run a grid search with 5 cross validation.\n",
    "grid = GridSearchCV(model, param_grid, cv=5)\n",
    "\n",
    "#And will fit the model for the training data.\n",
    "grid_search = grid.fit(X_train, y_train)\n",
    "print('Done')"
   ]
  },
  {
   "cell_type": "code",
   "execution_count": 40,
   "metadata": {},
   "outputs": [
    {
     "data": {
      "text/plain": [
       "0.1"
      ]
     },
     "execution_count": 40,
     "metadata": {},
     "output_type": "execute_result"
    }
   ],
   "source": [
    "#Figure which is the best C\n",
    "\n",
    "best_C = grid_search.best_params_['C']\n",
    "best_C"
   ]
  },
  {
   "cell_type": "code",
   "execution_count": 41,
   "metadata": {},
   "outputs": [
    {
     "data": {
      "text/html": [
       "<div>\n",
       "<style scoped>\n",
       "    .dataframe tbody tr th:only-of-type {\n",
       "        vertical-align: middle;\n",
       "    }\n",
       "\n",
       "    .dataframe tbody tr th {\n",
       "        vertical-align: top;\n",
       "    }\n",
       "\n",
       "    .dataframe thead th {\n",
       "        text-align: right;\n",
       "    }\n",
       "</style>\n",
       "<table border=\"1\" class=\"dataframe\">\n",
       "  <thead>\n",
       "    <tr style=\"text-align: right;\">\n",
       "      <th></th>\n",
       "      <th>Predicted: bad review</th>\n",
       "      <th>Predicted: good review</th>\n",
       "    </tr>\n",
       "  </thead>\n",
       "  <tbody>\n",
       "    <tr>\n",
       "      <th>Actual: bad review</th>\n",
       "      <td>8813</td>\n",
       "      <td>44</td>\n",
       "    </tr>\n",
       "    <tr>\n",
       "      <th>Actual: good review</th>\n",
       "      <td>182</td>\n",
       "      <td>209</td>\n",
       "    </tr>\n",
       "  </tbody>\n",
       "</table>\n",
       "</div>"
      ],
      "text/plain": [
       "                     Predicted: bad review  Predicted: good review\n",
       "Actual: bad review                    8813                      44\n",
       "Actual: good review                    182                     209"
      ]
     },
     "execution_count": 41,
     "metadata": {},
     "output_type": "execute_result"
    }
   ],
   "source": [
    "#Now we train and test with the best hyperparameter\n",
    "\n",
    "model_best = LogisticRegression(C = best_C, max_iter=10000)\n",
    "model_best.fit(X_train, y_train)\n",
    "\n",
    "proba_predictions = model_best.predict_proba(X_test)\n",
    "proba_predictions_best = []\n",
    "for i in proba_predictions:\n",
    "    proba_predictions_best.append(i[1])\n",
    "\n",
    "#predict.\n",
    "class_label_predictions_best = model_best.predict(X_test)\n",
    "\n",
    "#Figure the accuracy\n",
    "c_m = confusion_matrix(y_test, class_label_predictions_best, labels=[True,False])\n",
    "pd.DataFrame(c_m,columns=['Predicted: bad review', 'Predicted: good review'],\n",
    "             index=['Actual: bad review', 'Actual: good review'])"
   ]
  },
  {
   "cell_type": "code",
   "execution_count": 42,
   "metadata": {},
   "outputs": [
    {
     "data": {
      "image/png": "[encoded data removed]",
      "text/plain": [
       "<Figure size 640x480 with 1 Axes>"
      ]
     },
     "metadata": {},
     "output_type": "display_data"
    }
   ],
   "source": [
    "#plot precision curves\n",
    "precision_default, recall_default, thresholds_default=precision_recall_curve(y_test, proba_predictions_default)\n",
    "precision_best, recall_best, thresholds_best = precision_recall_curve(y_test,proba_predictions_best)\n",
    "\n",
    "fig = plt.figure()\n",
    "ax = fig.add_subplot(111)\n",
    "sns.lineplot(x=recall_default, y=precision_default, color='g')\n",
    "sns.lineplot(x=recall_best, y=precision_best, color='r')\n",
    "\n",
    "plt.title(\"Precision-recall curve\")\n",
    "plt.xlabel(\"Recall\")\n",
    "plt.ylabel(\"Precision\")\n",
    "plt.show()"
   ]
  },
  {
   "cell_type": "code",
   "execution_count": 43,
   "metadata": {},
   "outputs": [
    {
     "data": {
      "image/png": "[encoded data removed]",
      "text/plain": [
       "<Figure size 640x480 with 1 Axes>"
      ]
     },
     "metadata": {},
     "output_type": "display_data"
    }
   ],
   "source": [
    "#import necessary functions\n",
    "\n",
    "from sklearn.metrics import roc_curve \n",
    "from sklearn.metrics import auc\n",
    "\n",
    "fpr_default, tpr_default, thresholds_default = roc_curve(y_test,proba_predictions_default)\n",
    "fpr_best, tpr_best, thresholds_best = roc_curve(y_test, proba_predictions_best)\n",
    "\n",
    "\n",
    "fig = plt.figure()\n",
    "ax = fig.add_subplot(111)\n",
    "sns.lineplot(x=fpr_default, y=tpr_default, color='g')\n",
    "plt.title(\"Receiver operating characteristic (ROC) curve, LR\")\n",
    "plt.xlabel(\"False positive rate\")\n",
    "plt.ylabel(\"True positive rate\")\n",
    "plt.legend(['default hyperparameter'])\n",
    "plt.show()"
   ]
  },
  {
   "cell_type": "code",
   "execution_count": 44,
   "metadata": {},
   "outputs": [
    {
     "data": {
      "image/png": "[encoded data removed]",
      "text/plain": [
       "<Figure size 640x480 with 1 Axes>"
      ]
     },
     "metadata": {},
     "output_type": "display_data"
    }
   ],
   "source": [
    "fig = plt.figure()\n",
    "ax = fig.add_subplot(111)\n",
    "sns.lineplot(x=fpr_best, y=tpr_best, color='r')\n",
    "plt.title(\"Receiver operating characteristic (ROC) curve, LR\")\n",
    "plt.xlabel(\"False positive rate\")\n",
    "plt.ylabel(\"True positive rate\")\n",
    "plt.legend(['best hyperparameter'])\n",
    "plt.show()"
   ]
  },
  {
   "cell_type": "code",
   "execution_count": 45,
   "metadata": {},
   "outputs": [
    {
     "name": "stdout",
     "output_type": "stream",
     "text": [
      "0.9675309918578424\n",
      "0.9676693077592333\n"
     ]
    }
   ],
   "source": [
    "auc_default = auc(fpr_default, tpr_default) \n",
    "auc_best = auc(fpr_best, tpr_best)\n",
    "print(auc_default)\n",
    "print(auc_best)"
   ]
  },
  {
   "cell_type": "code",
   "execution_count": 46,
   "metadata": {},
   "outputs": [
    {
     "name": "stdout",
     "output_type": "stream",
     "text": [
      "Best features:\n",
      "Index(['number_of_reviews', 'review_scores_cleanliness',\n",
      "       'review_scores_checkin', 'review_scores_communication',\n",
      "       'review_scores_location'],\n",
      "      dtype='object')\n",
      "0.975649037982586\n"
     ]
    },
    {
     "name": "stderr",
     "output_type": "stream",
     "text": [
      "/home/ubuntu/.pyenv/versions/3.9.19/lib/python3.9/site-packages/sklearn/feature_selection/_univariate_selection.py:112: UserWarning: Features [2 3] are constant.\n",
      "  warnings.warn(\"Features %s are constant.\" % constant_features_idx, UserWarning)\n",
      "/home/ubuntu/.pyenv/versions/3.9.19/lib/python3.9/site-packages/sklearn/feature_selection/_univariate_selection.py:113: RuntimeWarning: invalid value encountered in true_divide\n",
      "  f = msb / msw\n"
     ]
    }
   ],
   "source": [
    "#Figuring which is the best features.\n",
    "from sklearn.feature_selection import SelectKBest \n",
    "from sklearn.feature_selection import f_classif\n",
    "\n",
    "\n",
    "selector = SelectKBest(f_classif, k=5)\n",
    "selector.fit(X, y)\n",
    "\n",
    "filter = selector.get_support()\n",
    "top_features = X.columns[filter]\n",
    "\n",
    "print(\"Best features:\")\n",
    "print(top_features)\n",
    "\n",
    "#have to create new train and test for the features\n",
    "new_X_train = X_train[top_features]\n",
    "new_X_test = X_test[top_features]\n",
    "\n",
    "model = LogisticRegression(C = best_C, max_iter=10000) \n",
    "\n",
    "model.fit(new_X_train, y_train)\n",
    "\n",
    "pp = model.predict_proba(new_X_test) \n",
    "proba_predictions = []\n",
    "for i in pp:\n",
    "    proba_predictions.append(i[1])\n",
    "\n",
    "fpr, tpr, thresholds = roc_curve(y_test, proba_predictions)\n",
    "auc_result = auc(fpr, tpr)\n",
    "print(auc_result)"
   ]
  },
  {
   "cell_type": "code",
   "execution_count": 47,
   "metadata": {},
   "outputs": [
    {
     "name": "stdout",
     "output_type": "stream",
     "text": [
      "Max Depth=25, accuracy score: 0.9659385813148789\n",
      "Max Depth=40, accuracy score: 0.9653979238754326\n"
     ]
    }
   ],
   "source": [
    "#will also train with a decision tree\n",
    "\n",
    "from sklearn.tree import DecisionTreeClassifier\n",
    "from sklearn.neighbors import KNeighborsClassifier \n",
    "\n",
    "\n",
    "def train_test_DT(X_train, X_test, y_train, y_test, depth, leaf=1,crit='entropy'):\n",
    "    model = DecisionTreeClassifier(criterion = crit, max_depth = depth,min_samples_leaf = leaf)\n",
    "\n",
    "    model.fit(X_train, y_train)\n",
    "    class_label_predictions = model.predict(X_test)\n",
    "    acc_score = accuracy_score(y_test, class_label_predictions)\n",
    "    return acc_score\n",
    "\n",
    "\n",
    "accuracy_list = [] \n",
    "max_depth_range = [25,40] \n",
    "for md in max_depth_range:\n",
    "    score = train_test_DT(X_train, X_test, y_train, y_test, md)\n",
    "    print('Max Depth=' + str(md) + ', accuracy score: ' + str(score))\n",
    "    accuracy_list.append(float(score))"
   ]
  },
  {
   "cell_type": "code",
   "execution_count": 48,
   "metadata": {},
   "outputs": [
    {
     "data": {
      "image/png": "[encoded data removed]",
      "text/plain": [
       "<Figure size 640x480 with 1 Axes>"
      ]
     },
     "metadata": {},
     "output_type": "display_data"
    }
   ],
   "source": [
    "def visualize_accuracy(hyperparam_range, acc):\n",
    "    fig = plt.figure()\n",
    "    ax = fig.add_subplot(111)\n",
    "    p = sns.lineplot(x=hyperparam_range, y=acc, marker='o', label = 'Full training set')\n",
    "    plt.title('Test set accuracy of the model predictions, for ' + ','.join([str(h) for h in hyperparam_range]))\n",
    "    ax.set_xlabel('Hyperparameter value')\n",
    "    ax.set_ylabel('Accuracy')\n",
    "    plt.show()\n",
    "\n",
    "visualize_accuracy(max_depth_range, accuracy_list)"
   ]
  },
  {
   "cell_type": "markdown",
   "metadata": {},
   "source": [
    "Analysis: The model is very accurate, with the decision tree both are incredibly accurate but the max depth of 40 performs better. \n",
    "I'm not sure why the PRC graph is mirrored to what a normal PRC graph looks like. My PRC graph states my logistic regression model is predicting inaccurately, but the other graphs and my decision tree model say that otherwise. Recall is how well the model is getting true positives and precision is how well the model is not getting false positives.\n",
    "The model is also doing well for AUC, will correctly predict a random listing. The AUC is 0.9754980166539275, which is really good.\n",
    "My ROC was able to accurately distinguish the positive and negative classes across different decision thresholds.\n"
   ]
  },
  {
   "cell_type": "code",
   "execution_count": null,
   "metadata": {},
   "outputs": [],
   "source": []
  }
 ],
 "metadata": {
  "kernelspec": {
   "display_name": "Python 3 (ipykernel)",
   "language": "python",
   "name": "python3"
  },
  "language_info": {
   "codemirror_mode": {
    "name": "ipython",
    "version": 3
   },
   "file_extension": ".py",
   "mimetype": "text/x-python",
   "name": "python",
   "nbconvert_exporter": "python",
   "pygments_lexer": "ipython3",
   "version": "3.9.19"
  },
  "toc": {
   "base_numbering": 1,
   "nav_menu": {},
   "number_sections": false,
   "sideBar": true,
   "skip_h1_title": false,
   "title_cell": "Table of Contents",
   "title_sidebar": "Contents",
   "toc_cell": false,
   "toc_position": {},
   "toc_section_display": true,
   "toc_window_display": false
  },
  "varInspector": {
   "cols": {
    "lenName": 16,
    "lenType": 16,
    "lenVar": 40
   },
   "kernels_config": {
    "python": {
     "delete_cmd_postfix": "",
     "delete_cmd_prefix": "del ",
     "library": "var_list.py",
     "varRefreshCmd": "print(var_dic_list())"
    },
    "r": {
     "delete_cmd_postfix": ") ",
     "delete_cmd_prefix": "rm(",
     "library": "var_list.r",
     "varRefreshCmd": "cat(var_dic_list()) "
    }
   },
   "types_to_exclude": [
    "module",
    "function",
    "builtin_function_or_method",
    "instance",
    "_Feature"
   ],
   "window_display": false
  }
 },
 "nbformat": 4,
 "nbformat_minor": 4
}
